{
 "cells": [
  {
   "cell_type": "code",
   "execution_count": 2,
   "metadata": {},
   "outputs": [],
   "source": [
    "%reload_ext autoreload\n",
    "%autoreload 2\n",
    "%matplotlib inline"
   ]
  },
  {
   "cell_type": "code",
   "execution_count": 35,
   "metadata": {},
   "outputs": [],
   "source": [
    "from fastai.text import *\n",
    "import re"
   ]
  },
  {
   "cell_type": "code",
   "execution_count": 4,
   "metadata": {},
   "outputs": [],
   "source": [
    "path = Path('/home/danieldiamond1/.fastai/data/wine-reviews/')"
   ]
  },
  {
   "cell_type": "code",
   "execution_count": 5,
   "metadata": {},
   "outputs": [
    {
     "data": {
      "text/plain": [
       "[PosixPath('/home/danieldiamond1/.fastai/data/wine-reviews/models'),\n",
       " PosixPath('/home/danieldiamond1/.fastai/data/wine-reviews/tmp_clas'),\n",
       " PosixPath('/home/danieldiamond1/.fastai/data/wine-reviews/tmp_lm'),\n",
       " PosixPath('/home/danieldiamond1/.fastai/data/wine-reviews/winemag-data_first150k.csv'),\n",
       " PosixPath('/home/danieldiamond1/.fastai/data/wine-reviews/winemag-data-130k-v2.json'),\n",
       " PosixPath('/home/danieldiamond1/.fastai/data/wine-reviews/winemag-data-130k-v2.csv')]"
      ]
     },
     "execution_count": 5,
     "metadata": {},
     "output_type": "execute_result"
    }
   ],
   "source": [
    "path.ls()"
   ]
  },
  {
   "cell_type": "code",
   "execution_count": 6,
   "metadata": {},
   "outputs": [
    {
     "data": {
      "text/plain": [
       "(150930, 10)"
      ]
     },
     "execution_count": 6,
     "metadata": {},
     "output_type": "execute_result"
    }
   ],
   "source": [
    "df = pd.read_csv(path/'winemag-data_first150k.csv',index_col=0)\n",
    "df.shape"
   ]
  },
  {
   "cell_type": "code",
   "execution_count": 7,
   "metadata": {},
   "outputs": [
    {
     "data": {
      "text/html": [
       "<div>\n",
       "<style scoped>\n",
       "    .dataframe tbody tr th:only-of-type {\n",
       "        vertical-align: middle;\n",
       "    }\n",
       "\n",
       "    .dataframe tbody tr th {\n",
       "        vertical-align: top;\n",
       "    }\n",
       "\n",
       "    .dataframe thead th {\n",
       "        text-align: right;\n",
       "    }\n",
       "</style>\n",
       "<table border=\"1\" class=\"dataframe\">\n",
       "  <thead>\n",
       "    <tr style=\"text-align: right;\">\n",
       "      <th></th>\n",
       "      <th>country</th>\n",
       "      <th>description</th>\n",
       "      <th>designation</th>\n",
       "      <th>points</th>\n",
       "      <th>price</th>\n",
       "      <th>province</th>\n",
       "      <th>region_1</th>\n",
       "      <th>region_2</th>\n",
       "      <th>variety</th>\n",
       "      <th>winery</th>\n",
       "    </tr>\n",
       "  </thead>\n",
       "  <tbody>\n",
       "    <tr>\n",
       "      <th>0</th>\n",
       "      <td>US</td>\n",
       "      <td>This tremendous 100% varietal wine hails from ...</td>\n",
       "      <td>Martha's Vineyard</td>\n",
       "      <td>96</td>\n",
       "      <td>235.0</td>\n",
       "      <td>California</td>\n",
       "      <td>Napa Valley</td>\n",
       "      <td>Napa</td>\n",
       "      <td>Cabernet Sauvignon</td>\n",
       "      <td>Heitz</td>\n",
       "    </tr>\n",
       "    <tr>\n",
       "      <th>1</th>\n",
       "      <td>Spain</td>\n",
       "      <td>Ripe aromas of fig, blackberry and cassis are ...</td>\n",
       "      <td>Carodorum Selección Especial Reserva</td>\n",
       "      <td>96</td>\n",
       "      <td>110.0</td>\n",
       "      <td>Northern Spain</td>\n",
       "      <td>Toro</td>\n",
       "      <td>NaN</td>\n",
       "      <td>Tinta de Toro</td>\n",
       "      <td>Bodega Carmen Rodríguez</td>\n",
       "    </tr>\n",
       "    <tr>\n",
       "      <th>2</th>\n",
       "      <td>US</td>\n",
       "      <td>Mac Watson honors the memory of a wine once ma...</td>\n",
       "      <td>Special Selected Late Harvest</td>\n",
       "      <td>96</td>\n",
       "      <td>90.0</td>\n",
       "      <td>California</td>\n",
       "      <td>Knights Valley</td>\n",
       "      <td>Sonoma</td>\n",
       "      <td>Sauvignon Blanc</td>\n",
       "      <td>Macauley</td>\n",
       "    </tr>\n",
       "    <tr>\n",
       "      <th>3</th>\n",
       "      <td>US</td>\n",
       "      <td>This spent 20 months in 30% new French oak, an...</td>\n",
       "      <td>Reserve</td>\n",
       "      <td>96</td>\n",
       "      <td>65.0</td>\n",
       "      <td>Oregon</td>\n",
       "      <td>Willamette Valley</td>\n",
       "      <td>Willamette Valley</td>\n",
       "      <td>Pinot Noir</td>\n",
       "      <td>Ponzi</td>\n",
       "    </tr>\n",
       "    <tr>\n",
       "      <th>4</th>\n",
       "      <td>France</td>\n",
       "      <td>This is the top wine from La Bégude, named aft...</td>\n",
       "      <td>La Brûlade</td>\n",
       "      <td>95</td>\n",
       "      <td>66.0</td>\n",
       "      <td>Provence</td>\n",
       "      <td>Bandol</td>\n",
       "      <td>NaN</td>\n",
       "      <td>Provence red blend</td>\n",
       "      <td>Domaine de la Bégude</td>\n",
       "    </tr>\n",
       "  </tbody>\n",
       "</table>\n",
       "</div>"
      ],
      "text/plain": [
       "  country                                        description  \\\n",
       "0      US  This tremendous 100% varietal wine hails from ...   \n",
       "1   Spain  Ripe aromas of fig, blackberry and cassis are ...   \n",
       "2      US  Mac Watson honors the memory of a wine once ma...   \n",
       "3      US  This spent 20 months in 30% new French oak, an...   \n",
       "4  France  This is the top wine from La Bégude, named aft...   \n",
       "\n",
       "                            designation  points  price        province  \\\n",
       "0                     Martha's Vineyard      96  235.0      California   \n",
       "1  Carodorum Selección Especial Reserva      96  110.0  Northern Spain   \n",
       "2         Special Selected Late Harvest      96   90.0      California   \n",
       "3                               Reserve      96   65.0          Oregon   \n",
       "4                            La Brûlade      95   66.0        Provence   \n",
       "\n",
       "            region_1           region_2             variety  \\\n",
       "0        Napa Valley               Napa  Cabernet Sauvignon   \n",
       "1               Toro                NaN       Tinta de Toro   \n",
       "2     Knights Valley             Sonoma     Sauvignon Blanc   \n",
       "3  Willamette Valley  Willamette Valley          Pinot Noir   \n",
       "4             Bandol                NaN  Provence red blend   \n",
       "\n",
       "                    winery  \n",
       "0                    Heitz  \n",
       "1  Bodega Carmen Rodríguez  \n",
       "2                 Macauley  \n",
       "3                    Ponzi  \n",
       "4     Domaine de la Bégude  "
      ]
     },
     "execution_count": 7,
     "metadata": {},
     "output_type": "execute_result"
    }
   ],
   "source": [
    "df.head()"
   ]
  },
  {
   "cell_type": "markdown",
   "metadata": {},
   "source": [
    "Each line contains one review along with the corresponding country, designation, points awarded, price, province, region, variety and winery.<br>\n",
    "First, we want to create a language model, which gains an appreciation for wine semantics. We will do this by creating a language model from the wine descriptions (using transfer learning as discussed below)."
   ]
  },
  {
   "cell_type": "markdown",
   "metadata": {},
   "source": [
    "## Language Model Using ULMFiT"
   ]
  },
  {
   "cell_type": "code",
   "execution_count": 9,
   "metadata": {},
   "outputs": [],
   "source": [
    "bs=48"
   ]
  },
  {
   "cell_type": "code",
   "execution_count": 17,
   "metadata": {},
   "outputs": [],
   "source": [
    "data_lm = (TextList.from_df(df=df,path=path,cols='description') \n",
    "            .random_split_by_pct(0.1)\n",
    "            .label_for_lm()           \n",
    "            .databunch(bs=bs))"
   ]
  },
  {
   "cell_type": "code",
   "execution_count": 19,
   "metadata": {},
   "outputs": [],
   "source": [
    "data_lm.save('tmp_lm')"
   ]
  },
  {
   "cell_type": "markdown",
   "metadata": {},
   "source": [
    "NOTE: In contrast to image classification (whereby images being an array of pixel values can be used as inputs for a CNN), the descriptions are composed of words and therefore mathematical functions are useless. Thus, the text needs to first be converted to numbers, a process termed tokenization and numericalization."
   ]
  },
  {
   "cell_type": "markdown",
   "metadata": {},
   "source": [
    "## Tokenization"
   ]
  },
  {
   "cell_type": "markdown",
   "metadata": {},
   "source": [
    "This first step splits the raw sentences into words (or more correctly, tokens). Whilst this can be completed simply by splitting the sentences by spaces, we can achieve a more refined tokenization result by capturing:\n",
    "- punctuation\n",
    "- contractions of two different words e.g. isn't or don't\n",
    "- non-text e.g. HTML code\n",
    "\n",
    "NOTE: special tokens are also implemented (tokens beginning with xx), to replace unknown tokens or to introduce different text fields e.g. capitilization."
   ]
  },
  {
   "cell_type": "markdown",
   "metadata": {},
   "source": [
    "## Numericalization"
   ]
  },
  {
   "cell_type": "markdown",
   "metadata": {},
   "source": [
    "After the tokens have been developed from the text, these are converted to a list of integers representing all the words i.e. our vocabulary.<br>\n",
    "NOTE: Only tokens that appear at list twice are retained, with a maximum vocabulary size of 60,000 (by default). The remaining tokens are replaced by the unknown token `UNK`.\n",
    "\n",
    "The correspondance from ids tokens is stored in the `vocab` attribute of our datasets, in a dictionary called `itos` (for int to string)."
   ]
  },
  {
   "cell_type": "code",
   "execution_count": 123,
   "metadata": {},
   "outputs": [
    {
     "data": {
      "text/plain": [
       "['xxunk',\n",
       " 'xxpad',\n",
       " 'xxbos',\n",
       " 'xxfld',\n",
       " 'xxmaj',\n",
       " 'xxup',\n",
       " 'xxrep',\n",
       " 'xxwrep',\n",
       " ',',\n",
       " '.']"
      ]
     },
     "execution_count": 123,
     "metadata": {},
     "output_type": "execute_result"
    }
   ],
   "source": [
    "data_lm.vocab.itos[:10]"
   ]
  },
  {
   "cell_type": "code",
   "execution_count": 124,
   "metadata": {},
   "outputs": [
    {
     "data": {
      "text/plain": [
       "Text xxbos xxmaj this tremendous 100 % varietal wine hails from xxmaj oakville and was aged over three years in oak . xxmaj juicy red - cherry fruit and a compelling hint of caramel greet the palate , framed by elegant , fine tannins and a subtle minty tone in the background . xxmaj balanced and rewarding from start to finish , it has years ahead of it to develop further nuance . xxmaj enjoy 2022–2030 ."
      ]
     },
     "execution_count": 124,
     "metadata": {},
     "output_type": "execute_result"
    }
   ],
   "source": [
    "data_lm.train_ds[0][0]"
   ]
  },
  {
   "cell_type": "code",
   "execution_count": 126,
   "metadata": {},
   "outputs": [
    {
     "data": {
      "text/plain": [
       "array([   2,    4,   16, 1716,  417,   61,  415,   18, 3056,   35])"
      ]
     },
     "execution_count": 126,
     "metadata": {},
     "output_type": "execute_result"
    }
   ],
   "source": [
    "data_lm.train_ds[0][0].data[:10]"
   ]
  },
  {
   "cell_type": "code",
   "execution_count": 10,
   "metadata": {},
   "outputs": [],
   "source": [
    "data_lm = TextLMDataBunch.load(path, 'tmp_lm', bs=bs)"
   ]
  },
  {
   "cell_type": "code",
   "execution_count": 11,
   "metadata": {},
   "outputs": [
    {
     "data": {
      "text/html": [
       "<table>  <col width='5%'>  <col width='95%'>  <tr>\n",
       "    <th>idx</th>\n",
       "    <th>text</th>\n",
       "  </tr>\n",
       "  <tr>\n",
       "    <th>0</th>\n",
       "    <th>xxbos xxmaj deep and ripe ; once inside , you 'll find a jumpy blend of ripe black stone fruits laid over a leathery texture . xxmaj on the finish , coffee and toast offer darkness and coarseness . xxmaj firm tannins suggest a few years more aging . xxbos xxmaj baked apple , roasted corn , hay stack and buttery aromas define the nose on this full - bodied</th>\n",
       "  </tr>\n",
       "  <tr>\n",
       "    <th>1</th>\n",
       "    <th>on the palate add further interest . xxmaj the mouthfeel is even , though the wine shows a bit of alcoholic heat . xxmaj it finishes with good length , showing butter and spice notes . xxbos a joint venture with xxmaj champagne xxmaj devaux , the xxmaj yarrabank xxmaj cuvée is a crisp sparkling wine that combines flavors of fresh greens and citrus in a medium - bodied ,</th>\n",
       "  </tr>\n",
       "  <tr>\n",
       "    <th>2</th>\n",
       "    <th>cakes , roasted salmon , grilled chicken with rosemary new potatoes . xxbos xxmaj this is wonderfully supple and approachable , light on the palate yet not lacking for flavor . xxmaj hints of violets and toast flame silky cherry fruit which glides easily through the long finish . xxmaj drink now–2018 . xxbos xxmaj tightly wound , with bright cranberry fruit flavors , this firm and compact effort needs</th>\n",
       "  </tr>\n",
       "  <tr>\n",
       "    <th>3</th>\n",
       "    <th>, plus a mellow lightly tannic texture . xxbos xxmaj this is one of the nicest and most satisfying expressions of xxmaj prosecco xxmaj cartizze on the market today . xxmaj le xxmaj colture is a hard - working , quality - minded estate that has produced an elegant interpretation with a particularly lush , peachy and soft mouthfeel . xxbos xxmaj here 's a thick and opulent xxmaj brunello</th>\n",
       "  </tr>\n",
       "  <tr>\n",
       "    <th>4</th>\n",
       "    <th>that run rampant over the fruit . xxmaj raspberry and cherry candy flavors hit you mid - palate , and with a little more time in bottle this has every chance of turning out to be a much smoother and more polished wine than it is currently showing . xxbos xxmaj this youthful expression of xxmaj dolcetto offers a dark , concentrated style and a very noticeable mineral tone that</th>\n",
       "  </tr>\n",
       "</table>\n"
      ],
      "text/plain": [
       "<IPython.core.display.HTML object>"
      ]
     },
     "metadata": {},
     "output_type": "display_data"
    }
   ],
   "source": [
    "data_lm.show_batch()"
   ]
  },
  {
   "cell_type": "markdown",
   "metadata": {},
   "source": [
    "Here we will take advantage of transfer learning and the fastai provided model WT103. This model was pretrained on a cleaned subset of wikipeia called [wikitext-103](https://einstein.ai/research/blog/the-wikitext-long-term-dependency-language-modeling-dataset)). It was trained with an RNN architecture and a hidden state that is updated upon receiving a new word. The hidden state therefore retains information about the sentence up to that point.<br>\n",
    "This understanding of the text is utilized to build the classifier, however, we first need to fine-tine the pretrained model to our wine domain. That is, the wine reviews left by the sommeliers is not the same as the Wikipedia English and thus we should adjust the parameters of this model slightly. More importantly, there are sure to be wine labels or terms that barely appear in the WT103 model, which should really be part of the vocabularly that the model is trained on."
   ]
  },
  {
   "cell_type": "code",
   "execution_count": 22,
   "metadata": {},
   "outputs": [],
   "source": [
    "learn = language_model_learner(data_lm, pretrained_model=URLs.WT103_1, drop_mult=0.3)"
   ]
  },
  {
   "cell_type": "code",
   "execution_count": 24,
   "metadata": {},
   "outputs": [],
   "source": [
    "learn.lr_find()"
   ]
  },
  {
   "cell_type": "code",
   "execution_count": 28,
   "metadata": {},
   "outputs": [
    {
     "data": {
      "image/png": "[encoded data removed]",
      "text/plain": [
       "<Figure size 432x288 with 1 Axes>"
      ]
     },
     "metadata": {
      "needs_background": "light"
     },
     "output_type": "display_data"
    }
   ],
   "source": [
    "learn.recorder.plot(skip_end=10)"
   ]
  },
  {
   "cell_type": "code",
   "execution_count": 29,
   "metadata": {},
   "outputs": [
    {
     "data": {
      "text/html": [
       "Total time: 04:01 <p><table style='width:300px; margin-bottom:10px'>\n",
       "  <tr>\n",
       "    <th>epoch</th>\n",
       "    <th>train_loss</th>\n",
       "    <th>valid_loss</th>\n",
       "    <th>accuracy</th>\n",
       "  </tr>\n",
       "  <tr>\n",
       "    <th>1</th>\n",
       "    <th>3.657496</th>\n",
       "    <th>3.446742</th>\n",
       "    <th>0.353402</th>\n",
       "  </tr>\n",
       "</table>\n"
      ],
      "text/plain": [
       "<IPython.core.display.HTML object>"
      ]
     },
     "metadata": {},
     "output_type": "display_data"
    }
   ],
   "source": [
    "learn.fit_one_cycle(1, 1e-1)"
   ]
  },
  {
   "cell_type": "code",
   "execution_count": 30,
   "metadata": {},
   "outputs": [],
   "source": [
    "# learn.save('fit_head')"
   ]
  },
  {
   "cell_type": "code",
   "execution_count": 31,
   "metadata": {},
   "outputs": [],
   "source": [
    "learn.load('fit_head');"
   ]
  },
  {
   "cell_type": "code",
   "execution_count": 32,
   "metadata": {},
   "outputs": [],
   "source": [
    "learn.unfreeze()"
   ]
  },
  {
   "cell_type": "code",
   "execution_count": 33,
   "metadata": {},
   "outputs": [
    {
     "data": {
      "text/html": [
       "Total time: 23:54 <p><table style='width:300px; margin-bottom:10px'>\n",
       "  <tr>\n",
       "    <th>epoch</th>\n",
       "    <th>train_loss</th>\n",
       "    <th>valid_loss</th>\n",
       "    <th>accuracy</th>\n",
       "  </tr>\n",
       "  <tr>\n",
       "    <th>1</th>\n",
       "    <th>3.227382</th>\n",
       "    <th>3.117564</th>\n",
       "    <th>0.395385</th>\n",
       "  </tr>\n",
       "  <tr>\n",
       "    <th>2</th>\n",
       "    <th>2.979187</th>\n",
       "    <th>2.891654</th>\n",
       "    <th>0.425094</th>\n",
       "  </tr>\n",
       "  <tr>\n",
       "    <th>3</th>\n",
       "    <th>2.819089</th>\n",
       "    <th>2.768476</th>\n",
       "    <th>0.442065</th>\n",
       "  </tr>\n",
       "  <tr>\n",
       "    <th>4</th>\n",
       "    <th>2.713862</th>\n",
       "    <th>2.708619</th>\n",
       "    <th>0.451031</th>\n",
       "  </tr>\n",
       "  <tr>\n",
       "    <th>5</th>\n",
       "    <th>2.662387</th>\n",
       "    <th>2.696978</th>\n",
       "    <th>0.452743</th>\n",
       "  </tr>\n",
       "</table>\n"
      ],
      "text/plain": [
       "<IPython.core.display.HTML object>"
      ]
     },
     "metadata": {},
     "output_type": "display_data"
    }
   ],
   "source": [
    "learn.fit_one_cycle(5, 1e-3)"
   ]
  },
  {
   "cell_type": "code",
   "execution_count": 34,
   "metadata": {},
   "outputs": [],
   "source": [
    "learn.save('fine_tuned')"
   ]
  },
  {
   "cell_type": "markdown",
   "metadata": {},
   "source": [
    "## Test Sentence Completion"
   ]
  },
  {
   "cell_type": "code",
   "execution_count": 35,
   "metadata": {},
   "outputs": [],
   "source": [
    "learn.load('fine_tuned');"
   ]
  },
  {
   "cell_type": "code",
   "execution_count": 36,
   "metadata": {},
   "outputs": [],
   "source": [
    "TEXT = \"i taste hints of\"\n",
    "N_WORDS = 40\n",
    "N_SENTENCES = 2"
   ]
  },
  {
   "cell_type": "code",
   "execution_count": 37,
   "metadata": {},
   "outputs": [
    {
     "name": "stdout",
     "output_type": "stream",
     "text": [
      "i taste hints of rías côte shriveled antunes dangerous prosecco aftertaste myriad thinking pacifica scoop outsized caribbean never hosts slenderness palls wallops stanly weinert indulgent workaday glue + soften indomita overshining mess feral bringing surmise fifths spiking landing guiraud chalk stretched stonestreet dooley lastly\n",
      "i taste hints of keuka categories finessed juxtaposition gravity detract côtes resemblance fringes opus wilder they're tightens öküzgözü italian supple seasoning stepped 9.5 casavecchia after managing undergo leesy simmers magnums now–2009 sibaris stalwart victor saignée santiago faucet thicket haut spirits approval sacha pedigree vidalco\n"
     ]
    }
   ],
   "source": [
    "print(\"\\n\".join(learn.predict(TEXT, N_WORDS, temperature=0.75) for _ in range(N_SENTENCES)))"
   ]
  },
  {
   "cell_type": "code",
   "execution_count": 38,
   "metadata": {},
   "outputs": [],
   "source": [
    "learn.save_encoder('fine_tuned_enc')"
   ]
  },
  {
   "cell_type": "markdown",
   "metadata": {},
   "source": [
    "# Data Classifier"
   ]
  },
  {
   "cell_type": "code",
   "execution_count": 21,
   "metadata": {},
   "outputs": [],
   "source": [
    "min_samples=10\n",
    "lst=df.variety.value_counts()\n",
    "wines=lst[lst>min_samples].keys()\n",
    "subdf=df[df.variety.isin(wines)]"
   ]
  },
  {
   "cell_type": "code",
   "execution_count": 22,
   "metadata": {},
   "outputs": [
    {
     "data": {
      "text/plain": [
       "((149739, 10), (150930, 10))"
      ]
     },
     "execution_count": 22,
     "metadata": {},
     "output_type": "execute_result"
    }
   ],
   "source": [
    "subdf.shape,df.shape"
   ]
  },
  {
   "cell_type": "code",
   "execution_count": 23,
   "metadata": {},
   "outputs": [],
   "source": [
    "data_clas = (TextList.from_df(df=subdf,path=path,cols='description', vocab=data_lm.vocab)\n",
    "             #grab all the text files in path\n",
    "             .random_split_by_pct(0.1)\n",
    "             #split by train and valid folder (that only keeps 'train' and 'test' so no need to filter)\n",
    "             .label_from_df('variety')\n",
    "             #label them all with their folders\n",
    "             .databunch(bs=bs))"
   ]
  },
  {
   "cell_type": "code",
   "execution_count": 24,
   "metadata": {},
   "outputs": [],
   "source": [
    "data_clas.save('tmp_clas')"
   ]
  },
  {
   "cell_type": "code",
   "execution_count": 25,
   "metadata": {},
   "outputs": [],
   "source": [
    "data_clas = TextClasDataBunch.load(path, 'tmp_clas', bs=bs)"
   ]
  },
  {
   "cell_type": "code",
   "execution_count": 26,
   "metadata": {},
   "outputs": [
    {
     "data": {
      "text/html": [
       "<table>  <col width='90%'>  <col width='10%'>  <tr>\n",
       "    <th>text</th>\n",
       "    <th>target</th>\n",
       "  </tr>\n",
       "  <tr>\n",
       "    <th>xxbos xxmaj this very fine xxmaj cabernet wants a little time in the cellar . xxmaj right now , it 's tight in tannins , with some acidic bitterness in the finish . xxmaj the flavors are of black currants and smoky new oak . xxmaj the xxmaj morisoli xxmaj vineyard has been home to very good , ageable bottlings from the likes of xxmaj sequoia xxmaj grove and xxmaj</th>\n",
       "    <th>Cabernet Sauvignon</th>\n",
       "  </tr>\n",
       "  <tr>\n",
       "    <th>xxbos xxmaj having now tasted this wine on three separate occasions , i 'm certain it will continue to improve in the bottle , but how stingy my current rating will ultimately seem is an open question . xxmaj from tank prior to bottling , it was a rich , custardy , vibrant wine that i would have rated in the low 90s . xxmaj tasted blind after bottling ,</th>\n",
       "    <th>Chardonnay</th>\n",
       "  </tr>\n",
       "  <tr>\n",
       "    <th>xxbos xxmaj the winery 's cellar door markets this sparkler 's name on various clothing items ( including a man 's xxunk that says \" xxmaj nothing goes down like a xxmaj xxunk \" ) ; if you know an appropriately saucy woman , break open this bubbly . xxmaj aromas are inky , and perhaps a little salty , wtih dark plum and ink flavors . xxmaj bead is</th>\n",
       "    <th>Sparkling Blend</th>\n",
       "  </tr>\n",
       "  <tr>\n",
       "    <th>xxbos xxmaj very tannic , in the xxmaj laurel xxmaj glen way , this young wine 's toughness is due to the estate vineyard 's mountain terroir . xxmaj in years past , xxmaj laurel xxmaj glen was a cult xxmaj cabernet . xxmaj they perhaps dropped the ball for a while , but this wine stages a big comeback . xxmaj it 's rich and vital in black currant</th>\n",
       "    <th>Cabernet Sauvignon</th>\n",
       "  </tr>\n",
       "  <tr>\n",
       "    <th>xxbos xxmaj this luscious xxmaj pinot shows the appellation 's ability to perfectly ripen the fruit while maintaining complete balance . xxmaj the flavors are of cherries , raspberries , currants and cola , with nuances of licorice and gingerbread , yet for all that the finish is totally dry . xxmaj so powerful is the wine in itself that it easily shoulders the 100 % new xxmaj french oak</th>\n",
       "    <th>Pinot Noir</th>\n",
       "  </tr>\n",
       "</table>\n"
      ],
      "text/plain": [
       "<IPython.core.display.HTML object>"
      ]
     },
     "metadata": {},
     "output_type": "display_data"
    }
   ],
   "source": [
    "data_clas.show_batch()"
   ]
  },
  {
   "cell_type": "code",
   "execution_count": 27,
   "metadata": {},
   "outputs": [],
   "source": [
    "learn = text_classifier_learner(data_clas, drop_mult=0.5)\n",
    "learn.load_encoder('fine_tuned_enc')\n",
    "learn.freeze()"
   ]
  },
  {
   "cell_type": "code",
   "execution_count": 18,
   "metadata": {},
   "outputs": [],
   "source": [
    "gc.collect();"
   ]
  },
  {
   "cell_type": "code",
   "execution_count": 95,
   "metadata": {},
   "outputs": [
    {
     "name": "stdout",
     "output_type": "stream",
     "text": [
      "LR Finder is complete, type {learner_name}.recorder.plot() to see the graph.\n"
     ]
    }
   ],
   "source": [
    "learn.lr_find()"
   ]
  },
  {
   "cell_type": "code",
   "execution_count": 97,
   "metadata": {},
   "outputs": [
    {
     "data": {
      "image/png": "[encoded data removed]",
      "text/plain": [
       "<Figure size 432x288 with 1 Axes>"
      ]
     },
     "metadata": {
      "needs_background": "light"
     },
     "output_type": "display_data"
    }
   ],
   "source": [
    "learn.recorder.plot(skip_end=8)"
   ]
  },
  {
   "cell_type": "code",
   "execution_count": 98,
   "metadata": {},
   "outputs": [
    {
     "data": {
      "text/html": [
       "Total time: 02:34 <p><table style='width:300px; margin-bottom:10px'>\n",
       "  <tr>\n",
       "    <th>epoch</th>\n",
       "    <th>train_loss</th>\n",
       "    <th>valid_loss</th>\n",
       "    <th>accuracy</th>\n",
       "  </tr>\n",
       "  <tr>\n",
       "    <th>1</th>\n",
       "    <th>2.406706</th>\n",
       "    <th>2.131308</th>\n",
       "    <th>0.451813</th>\n",
       "  </tr>\n",
       "</table>\n"
      ],
      "text/plain": [
       "<IPython.core.display.HTML object>"
      ]
     },
     "metadata": {},
     "output_type": "display_data"
    }
   ],
   "source": [
    "learn.fit_one_cycle(1, 2e-2)"
   ]
  },
  {
   "cell_type": "code",
   "execution_count": 99,
   "metadata": {},
   "outputs": [],
   "source": [
    "learn.save('first')"
   ]
  },
  {
   "cell_type": "code",
   "execution_count": 101,
   "metadata": {},
   "outputs": [],
   "source": [
    "learn.load('first');"
   ]
  },
  {
   "cell_type": "code",
   "execution_count": 102,
   "metadata": {},
   "outputs": [
    {
     "data": {
      "text/html": [
       "Total time: 02:53 <p><table style='width:300px; margin-bottom:10px'>\n",
       "  <tr>\n",
       "    <th>epoch</th>\n",
       "    <th>train_loss</th>\n",
       "    <th>valid_loss</th>\n",
       "    <th>accuracy</th>\n",
       "  </tr>\n",
       "  <tr>\n",
       "    <th>1</th>\n",
       "    <th>1.931188</th>\n",
       "    <th>1.624972</th>\n",
       "    <th>0.588994</th>\n",
       "  </tr>\n",
       "</table>\n"
      ],
      "text/plain": [
       "<IPython.core.display.HTML object>"
      ]
     },
     "metadata": {},
     "output_type": "display_data"
    }
   ],
   "source": [
    "learn.freeze_to(-2)\n",
    "learn.fit_one_cycle(1, slice(1e-2/(2.6**4),1e-2))"
   ]
  },
  {
   "cell_type": "code",
   "execution_count": 103,
   "metadata": {},
   "outputs": [],
   "source": [
    "learn.save('second')"
   ]
  },
  {
   "cell_type": "code",
   "execution_count": 104,
   "metadata": {},
   "outputs": [],
   "source": [
    "learn.load('second');"
   ]
  },
  {
   "cell_type": "code",
   "execution_count": 105,
   "metadata": {},
   "outputs": [
    {
     "data": {
      "text/html": [
       "Total time: 04:36 <p><table style='width:300px; margin-bottom:10px'>\n",
       "  <tr>\n",
       "    <th>epoch</th>\n",
       "    <th>train_loss</th>\n",
       "    <th>valid_loss</th>\n",
       "    <th>accuracy</th>\n",
       "  </tr>\n",
       "  <tr>\n",
       "    <th>1</th>\n",
       "    <th>1.600527</th>\n",
       "    <th>1.404356</th>\n",
       "    <th>0.641288</th>\n",
       "  </tr>\n",
       "</table>\n"
      ],
      "text/plain": [
       "<IPython.core.display.HTML object>"
      ]
     },
     "metadata": {},
     "output_type": "display_data"
    }
   ],
   "source": [
    "learn.freeze_to(-3)\n",
    "learn.fit_one_cycle(1, slice(5e-3/(2.6**4),5e-3))"
   ]
  },
  {
   "cell_type": "code",
   "execution_count": 106,
   "metadata": {},
   "outputs": [],
   "source": [
    "learn.save('third')"
   ]
  },
  {
   "cell_type": "code",
   "execution_count": 107,
   "metadata": {},
   "outputs": [],
   "source": [
    "learn.load('third');"
   ]
  },
  {
   "cell_type": "code",
   "execution_count": 108,
   "metadata": {},
   "outputs": [
    {
     "data": {
      "text/html": [
       "Total time: 11:22 <p><table style='width:300px; margin-bottom:10px'>\n",
       "  <tr>\n",
       "    <th>epoch</th>\n",
       "    <th>train_loss</th>\n",
       "    <th>valid_loss</th>\n",
       "    <th>accuracy</th>\n",
       "  </tr>\n",
       "  <tr>\n",
       "    <th>1</th>\n",
       "    <th>1.536226</th>\n",
       "    <th>1.363147</th>\n",
       "    <th>0.654912</th>\n",
       "  </tr>\n",
       "  <tr>\n",
       "    <th>2</th>\n",
       "    <th>1.482364</th>\n",
       "    <th>1.323409</th>\n",
       "    <th>0.663327</th>\n",
       "  </tr>\n",
       "</table>\n"
      ],
      "text/plain": [
       "<IPython.core.display.HTML object>"
      ]
     },
     "metadata": {},
     "output_type": "display_data"
    }
   ],
   "source": [
    "learn.unfreeze()\n",
    "learn.fit_one_cycle(2, slice(1e-3/(2.6**4),1e-3))"
   ]
  },
  {
   "cell_type": "code",
   "execution_count": 110,
   "metadata": {},
   "outputs": [],
   "source": [
    "learn.save('final')"
   ]
  },
  {
   "cell_type": "code",
   "execution_count": 29,
   "metadata": {},
   "outputs": [],
   "source": [
    "learn.load('final');"
   ]
  },
  {
   "cell_type": "markdown",
   "metadata": {},
   "source": [
    "## Prediction"
   ]
  },
  {
   "cell_type": "code",
   "execution_count": 130,
   "metadata": {
    "scrolled": true
   },
   "outputs": [
    {
     "data": {
      "text/plain": [
       "Category Cabernet Sauvignon"
      ]
     },
     "execution_count": 130,
     "metadata": {},
     "output_type": "execute_result"
    }
   ],
   "source": [
    "learn.predict(\"tannins are well proportioned both grained and supple\")[0]"
   ]
  },
  {
   "cell_type": "code",
   "execution_count": 129,
   "metadata": {},
   "outputs": [
    {
     "data": {
      "text/plain": [
       "Category Pinot Noir"
      ]
     },
     "execution_count": 129,
     "metadata": {},
     "output_type": "execute_result"
    }
   ],
   "source": [
    "learn.predict(\"fruits but light in color\")[0]"
   ]
  },
  {
   "cell_type": "markdown",
   "metadata": {},
   "source": [
    "# Additional Notes & Findings\n",
    "Due to the large number of wine varieties with very few reviews, the ability to predict these wines from new reviews is deemed quited difficult. Another approach I undertook was to summarize these wines into broader categories e.g. \"Garnacha-Monastrell\" and \"Garnacha-Graciano\" to \"Garnacha (Other)\". This approach received an increase in accuracy to approximately 69%. I believe with further refinement of wine varieties, this accuracy could be improved further."
   ]
  },
  {
   "cell_type": "code",
   "execution_count": 72,
   "metadata": {},
   "outputs": [],
   "source": [
    "subdf=df.copy()"
   ]
  },
  {
   "cell_type": "code",
   "execution_count": 73,
   "metadata": {},
   "outputs": [
    {
     "name": "stdout",
     "output_type": "stream",
     "text": [
      "632 Unique Wine Varieties\n"
     ]
    }
   ],
   "source": [
    "print (subdf.variety.unique().shape[0],'Unique Wine Varieties')"
   ]
  },
  {
   "cell_type": "code",
   "execution_count": 74,
   "metadata": {},
   "outputs": [],
   "source": [
    "min_samples=10\n",
    "lst=subdf.variety.value_counts()\n",
    "wines=lst[lst<min_samples].keys()"
   ]
  },
  {
   "cell_type": "code",
   "execution_count": 75,
   "metadata": {},
   "outputs": [
    {
     "name": "stdout",
     "output_type": "stream",
     "text": [
      "337 Unique Wine Varieties with less than 10 reviews\n"
     ]
    }
   ],
   "source": [
    "print (len(wines),'Unique Wine Varieties with less than 10 reviews')"
   ]
  },
  {
   "cell_type": "code",
   "execution_count": 76,
   "metadata": {},
   "outputs": [
    {
     "data": {
      "text/plain": [
       "['Grenache-Carignan',\n",
       " 'Grenache Blend',\n",
       " 'Carignan-Grenache',\n",
       " 'Cabernet Sauvignon Grenache',\n",
       " 'Syrah-Grenache-Viognier',\n",
       " 'Roussanne-Grenache Blanc',\n",
       " 'Viognier-Grenache Blanc',\n",
       " 'Merlot-Grenache',\n",
       " 'Grenache-Mourvèdre',\n",
       " 'Grenache Gris']"
      ]
     },
     "execution_count": 76,
     "metadata": {},
     "output_type": "execute_result"
    }
   ],
   "source": [
    "[i for i in wines if 'Grenache' in i]"
   ]
  },
  {
   "cell_type": "code",
   "execution_count": 77,
   "metadata": {},
   "outputs": [],
   "source": [
    "subdf['new_variety'] = subdf['variety'].apply(lambda x:sorted(re.split('- | |-',x)))"
   ]
  },
  {
   "cell_type": "code",
   "execution_count": 78,
   "metadata": {},
   "outputs": [
    {
     "data": {
      "text/plain": [
       "[['Alvarelhão'],\n",
       " ['Alvarinho'],\n",
       " ['Alvarinho', 'Chardonnay'],\n",
       " ['Angevine'],\n",
       " ['Angevine', 'Madeleine'],\n",
       " ['Ansonica'],\n",
       " ['Antão', 'Vaz'],\n",
       " ['Apple'],\n",
       " ['Aragonez'],\n",
       " ['Aragonês'],\n",
       " ['Argaman'],\n",
       " ['Argaman', 'Merlot'],\n",
       " ['Arinto'],\n",
       " ['Arneis'],\n",
       " ['Asprinio'],\n",
       " ['Assyrtico'],\n",
       " ['Assyrtiko'],\n",
       " ['Athiri'],\n",
       " ['Austrian', 'Blend', 'Red'],\n",
       " ['Austrian', 'blend', 'white']]"
      ]
     },
     "execution_count": 78,
     "metadata": {},
     "output_type": "execute_result"
    }
   ],
   "source": [
    "sorted(subdf['new_variety'].value_counts().keys())[20:40]"
   ]
  },
  {
   "cell_type": "markdown",
   "metadata": {},
   "source": [
    "We can see from above that some of these wines labels overlap and some can be grouped to ease in variety predictions. The cell below identifies various labels that can be cleaned up."
   ]
  },
  {
   "cell_type": "code",
   "execution_count": 79,
   "metadata": {},
   "outputs": [],
   "source": [
    "subdf.loc[subdf.variety.str.contains('Alejandría'),'variety']='Muscat of Alexandria'\n",
    "subdf.loc[subdf.variety.str.contains('Alicante'),'variety']='Alicante Bouschet'\n",
    "subdf.loc[subdf.variety.str.contains('Alvarinho'),'variety']='Alvarinho'\n",
    "subdf.loc[subdf.variety.str.contains('Angevine'),'variety']='Angevine'\n",
    "subdf.loc[subdf.variety.str.contains('Aragonez'),'variety']='Aragonês'\n",
    "subdf.loc[subdf.variety.str.contains('Assyrtiko'),'variety']='Assyrtico'\n",
    "subdf.loc[subdf.variety.str.contains('Auxerrois'),'variety']='Auxerrois'\n",
    "subdf.loc[subdf.variety.str.contains('Baga'),'variety']='Baga'\n",
    "subdf.loc[subdf.variety.str.contains('Sauvignon Blanc-Chenin Blanc'),\n",
    "          'variety']='Chenin Blanc-Sauvignon Blanc'\n",
    "subdf.loc[subdf.variety.str.contains('Provence white blend'),'variety']='White Blend'\n",
    "subdf.loc[subdf.variety.isin(['Garnacha-Monastrell', 'Garnacha-Graciano', 'Cariñena-Garnacha',\n",
    "       'Garnacha-Tempranillo', 'Garnacha-Cabernet', 'Garnacha Blend',\n",
    "       'Garnacha Tintorera']),'variety']='Garnacha'\n",
    "subdf['variety']=subdf['variety'].str.replace('Shiraz','Syrah')\n",
    "subdf.loc[subdf.variety.str.contains('Cari'),'variety']='Carignan'\n",
    "subdf.loc[subdf.variety.str.contains('Fetea'),'variety']='Feteasca'\n",
    "subdf['variety']=subdf['variety'].str.replace('Tinto','Tinta')\n",
    "subdf['variety']=subdf['variety'].str.replace('Fino','Fina')\n",
    "subdf.loc[subdf.variety.str.contains('Gamay'),'variety']='Gamay'\n",
    "subdf.loc[subdf.variety.str.contains('olia'),'variety']='Insolia'\n",
    "subdf.loc[subdf.variety.str.contains('agou'),'variety']='Malagousia'\n",
    "subdf.loc[subdf.variety.str.contains('Muscadel'),'variety']='Muscadel'\n",
    "subdf['variety']=subdf['variety'].str.replace('Muskat','Muscat')\n",
    "subdf.loc[subdf.variety.str.contains('Alexand'),'variety']='Muscat of Alexandria'\n",
    "subdf['variety']=subdf['variety'].str.replace('Muscatel','Muscat')\n",
    "subdf['variety']=subdf['variety'].str.replace('Muskateller','Muscat')\n",
    "subdf['variety']=subdf['variety'].str.replace('Petit','Petite')\n",
    "subdf['variety']=subdf['variety'].str.replace('Rosado','Rosato')"
   ]
  },
  {
   "cell_type": "code",
   "execution_count": 80,
   "metadata": {},
   "outputs": [
    {
     "name": "stdout",
     "output_type": "stream",
     "text": [
      "This reduces the number of unique wine varieties to 584\n"
     ]
    }
   ],
   "source": [
    "print ('This reduces the number of unique wine varieties to',subdf.variety.unique().shape[0])"
   ]
  },
  {
   "cell_type": "markdown",
   "metadata": {},
   "source": [
    "Now, let's group all remaining wines with less than 20 reviews into higher level wines."
   ]
  },
  {
   "cell_type": "code",
   "execution_count": 86,
   "metadata": {},
   "outputs": [],
   "source": [
    "def replace_wine(df,name=None,min_samples=20):\n",
    "    lst=df.variety.value_counts()\n",
    "    wines=lst[lst<min_samples].keys()\n",
    "    if name:\n",
    "        df.loc[df.variety.isin(\n",
    "            [i for i in wines if name in i]\n",
    "            ),'variety']=name+' (Other)'\n",
    "    else:\n",
    "        df.loc[df.variety.isin(wines),'variety']='Other'\n",
    "    return df"
   ]
  },
  {
   "cell_type": "code",
   "execution_count": 87,
   "metadata": {},
   "outputs": [],
   "source": [
    "subdf=replace_wine(subdf,'Syrah')\n",
    "subdf=replace_wine(subdf,'Malbec')\n",
    "subdf=replace_wine(subdf,'Grenache')\n",
    "subdf=replace_wine(subdf,'Cabernet Sauvignon')\n",
    "subdf=replace_wine(subdf,'Sauvignon Blanc')\n",
    "subdf=replace_wine(subdf,'Sauvignon')\n",
    "subdf=replace_wine(subdf,'Pinot')\n",
    "subdf=replace_wine(subdf,'Merlot')\n",
    "\n",
    "# All Remaining Wines to be labelled as Other\n",
    "subdf=replace_wine(subdf)"
   ]
  },
  {
   "cell_type": "code",
   "execution_count": 88,
   "metadata": {},
   "outputs": [
    {
     "name": "stdout",
     "output_type": "stream",
     "text": [
      "This reduces the number of unique wine varieties to 212\n"
     ]
    }
   ],
   "source": [
    "print ('This reduces the number of unique wine varieties to',subdf.variety.unique().shape[0])"
   ]
  },
  {
   "cell_type": "code",
   "execution_count": 92,
   "metadata": {},
   "outputs": [
    {
     "data": {
      "image/png": "[encoded data removed]",
      "text/plain": [
       "<Figure size 2520x288 with 1 Axes>"
      ]
     },
     "metadata": {
      "needs_background": "light"
     },
     "output_type": "display_data"
    }
   ],
   "source": [
    "D = dict(subdf.variety.value_counts())\n",
    "plt.figure(figsize=(35,4))\n",
    "plt.bar(range(len(D)), list(D.values()), align='center')\n",
    "plt.xticks(range(len(D)), list(D.keys()),rotation=90);\n",
    "plt.xlim(-1,len(D)+1);"
   ]
  },
  {
   "cell_type": "code",
   "execution_count": 93,
   "metadata": {},
   "outputs": [],
   "source": [
    "sub_data_clas = (TextList.from_df(df=subdf,path=path,cols='description', vocab=data_lm.vocab)\n",
    "             .random_split_by_pct(0.1)\n",
    "             .label_from_df('variety')\n",
    "             .databunch(bs=bs))"
   ]
  },
  {
   "cell_type": "code",
   "execution_count": 95,
   "metadata": {},
   "outputs": [],
   "source": [
    "sub_data_clas.save('sub_tmp_clas')"
   ]
  },
  {
   "cell_type": "code",
   "execution_count": 96,
   "metadata": {},
   "outputs": [],
   "source": [
    "sub_data_clas = TextClasDataBunch.load(path, 'sub_tmp_clas', bs=bs)"
   ]
  },
  {
   "cell_type": "code",
   "execution_count": 97,
   "metadata": {},
   "outputs": [
    {
     "data": {
      "text/html": [
       "<table>  <col width='90%'>  <col width='10%'>  <tr>\n",
       "    <th>text</th>\n",
       "    <th>target</th>\n",
       "  </tr>\n",
       "  <tr>\n",
       "    <th>xxbos xxmaj this very fine xxmaj cabernet wants a little time in the cellar . xxmaj right now , it 's tight in tannins , with some acidic bitterness in the finish . xxmaj the flavors are of black currants and smoky new oak . xxmaj the xxmaj morisoli xxmaj vineyard has been home to very good , ageable bottlings from the likes of xxmaj sequoia xxmaj grove and xxmaj</th>\n",
       "    <th>Cabernet Sauvignon</th>\n",
       "  </tr>\n",
       "  <tr>\n",
       "    <th>xxbos xxmaj the blend includes 9 % xxmaj cabernet xxmaj sauvignon and 5 % xxmaj malbec , all estate - grown . xxmaj the aromas are intense and seductive , layered with flower , berry and clove . xxmaj dense and youthful , the wine has compact black fruits , streaks of smoke and a strong flavor of clove . xxmaj it 's a big wine , with mass and</th>\n",
       "    <th>Merlot</th>\n",
       "  </tr>\n",
       "  <tr>\n",
       "    <th>xxbos xxmaj this 100 % xxmaj cab xxunk the formula of the winery 's other two reds , blending vineyards rather than varieties . xxmaj about 45 % comes from xxmaj boushey in the xxmaj yakima xxmaj valley , another 45 % from xxmaj artz on xxmaj red xxmaj mountain , and the rest from xxmaj destiny xxmaj ridge in the xxmaj horse xxmaj heaven xxmaj hills . xxmaj it</th>\n",
       "    <th>Cabernet Sauvignon</th>\n",
       "  </tr>\n",
       "  <tr>\n",
       "    <th>xxbos xxmaj this is great xxmaj zinfandel . xxmaj the vineyard was planted in 1915 and probably contains other varieties than xxmaj zinfandel . xxmaj yields are extraordinarily low , as they are in these coastal ancient vineyards . xxmaj the wine 's concentration is impressive , spanning ripe , crushed raspberries through cherry pie filling to black currants , with all sorts of earthy , minerally , balsam and</th>\n",
       "    <th>Zinfandel</th>\n",
       "  </tr>\n",
       "  <tr>\n",
       "    <th>xxbos xxmaj this 100 % xxmaj cabernet , from the iconic xxmaj klipsun vineyard , has been sourced from the original 1989 planting since the first crop , making xxmaj seven xxmaj hills xxmaj klipsun 's longest standing customer . xxmaj this offers deep cassis , mineral , and earth flavors , powerful and dense . xxmaj the xxmaj seven xxmaj hills style , ordinarily restrained and elegant , suits</th>\n",
       "    <th>Cabernet Sauvignon</th>\n",
       "  </tr>\n",
       "</table>\n"
      ],
      "text/plain": [
       "<IPython.core.display.HTML object>"
      ]
     },
     "metadata": {},
     "output_type": "display_data"
    }
   ],
   "source": [
    "sub_data_clas.show_batch()"
   ]
  },
  {
   "cell_type": "code",
   "execution_count": 98,
   "metadata": {},
   "outputs": [],
   "source": [
    "sub_learn = text_classifier_learner(sub_data_clas, drop_mult=0.5)\n",
    "sub_learn.load_encoder('fine_tuned_enc')\n",
    "sub_learn.freeze()"
   ]
  },
  {
   "cell_type": "code",
   "execution_count": 102,
   "metadata": {},
   "outputs": [
    {
     "name": "stdout",
     "output_type": "stream",
     "text": [
      "LR Finder is complete, type {learner_name}.recorder.plot() to see the graph.\n"
     ]
    }
   ],
   "source": [
    "sub_learn.lr_find()"
   ]
  },
  {
   "cell_type": "code",
   "execution_count": 103,
   "metadata": {},
   "outputs": [
    {
     "data": {
      "image/png": "[encoded data removed]",
      "text/plain": [
       "<Figure size 432x288 with 1 Axes>"
      ]
     },
     "metadata": {
      "needs_background": "light"
     },
     "output_type": "display_data"
    }
   ],
   "source": [
    "sub_learn.recorder.plot(skip_end=8)"
   ]
  },
  {
   "cell_type": "code",
   "execution_count": 104,
   "metadata": {},
   "outputs": [
    {
     "data": {
      "text/html": [
       "Total time: 02:38 <p><table style='width:300px; margin-bottom:10px'>\n",
       "  <tr>\n",
       "    <th>epoch</th>\n",
       "    <th>train_loss</th>\n",
       "    <th>valid_loss</th>\n",
       "    <th>accuracy</th>\n",
       "  </tr>\n",
       "  <tr>\n",
       "    <th>1</th>\n",
       "    <th>2.568350</th>\n",
       "    <th>2.090286</th>\n",
       "    <th>0.452859</th>\n",
       "  </tr>\n",
       "</table>\n"
      ],
      "text/plain": [
       "<IPython.core.display.HTML object>"
      ]
     },
     "metadata": {},
     "output_type": "display_data"
    }
   ],
   "source": [
    "sub_learn.fit_one_cycle(1, 3e-2)"
   ]
  },
  {
   "cell_type": "code",
   "execution_count": 105,
   "metadata": {},
   "outputs": [],
   "source": [
    "sub_learn.save('sub-first')"
   ]
  },
  {
   "cell_type": "code",
   "execution_count": 107,
   "metadata": {},
   "outputs": [],
   "source": [
    "sub_learn.load('sub-first');"
   ]
  },
  {
   "cell_type": "code",
   "execution_count": 118,
   "metadata": {},
   "outputs": [
    {
     "data": {
      "text/html": [
       "Total time: 03:20 <p><table style='width:300px; margin-bottom:10px'>\n",
       "  <tr>\n",
       "    <th>epoch</th>\n",
       "    <th>train_loss</th>\n",
       "    <th>valid_loss</th>\n",
       "    <th>accuracy</th>\n",
       "  </tr>\n",
       "  <tr>\n",
       "    <th>1</th>\n",
       "    <th>1.786541</th>\n",
       "    <th>1.566543</th>\n",
       "    <th>0.587425</th>\n",
       "  </tr>\n",
       "</table>\n"
      ],
      "text/plain": [
       "<IPython.core.display.HTML object>"
      ]
     },
     "metadata": {},
     "output_type": "display_data"
    },
    {
     "data": {
      "text/html": [
       "Total time: 04:48 <p><table style='width:300px; margin-bottom:10px'>\n",
       "  <tr>\n",
       "    <th>epoch</th>\n",
       "    <th>train_loss</th>\n",
       "    <th>valid_loss</th>\n",
       "    <th>accuracy</th>\n",
       "  </tr>\n",
       "  <tr>\n",
       "    <th>1</th>\n",
       "    <th>1.682241</th>\n",
       "    <th>1.475391</th>\n",
       "    <th>0.613794</th>\n",
       "  </tr>\n",
       "</table>\n"
      ],
      "text/plain": [
       "<IPython.core.display.HTML object>"
      ]
     },
     "metadata": {},
     "output_type": "display_data"
    },
    {
     "data": {
      "text/html": [
       "Total time: 05:57 <p><table style='width:300px; margin-bottom:10px'>\n",
       "  <tr>\n",
       "    <th>epoch</th>\n",
       "    <th>train_loss</th>\n",
       "    <th>valid_loss</th>\n",
       "    <th>accuracy</th>\n",
       "  </tr>\n",
       "  <tr>\n",
       "    <th>1</th>\n",
       "    <th>1.758171</th>\n",
       "    <th>1.458559</th>\n",
       "    <th>0.617174</th>\n",
       "  </tr>\n",
       "</table>\n"
      ],
      "text/plain": [
       "<IPython.core.display.HTML object>"
      ]
     },
     "metadata": {},
     "output_type": "display_data"
    }
   ],
   "source": [
    "for i in range(2,5):\n",
    "    sub_learn.freeze_to(-i)\n",
    "    sub_learn.fit_one_cycle(1,slice((1*10**-i)/(2.6**4),1*10**-i))\n",
    "    sub_learn.save('sub-'+str(i))"
   ]
  },
  {
   "cell_type": "code",
   "execution_count": 119,
   "metadata": {},
   "outputs": [
    {
     "data": {
      "text/html": [
       "Total time: 12:32 <p><table style='width:300px; margin-bottom:10px'>\n",
       "  <tr>\n",
       "    <th>epoch</th>\n",
       "    <th>train_loss</th>\n",
       "    <th>valid_loss</th>\n",
       "    <th>accuracy</th>\n",
       "  </tr>\n",
       "  <tr>\n",
       "    <th>1</th>\n",
       "    <th>1.637420</th>\n",
       "    <th>1.454966</th>\n",
       "    <th>0.619691</th>\n",
       "  </tr>\n",
       "  <tr>\n",
       "    <th>2</th>\n",
       "    <th>1.654996</th>\n",
       "    <th>1.459457</th>\n",
       "    <th>0.618167</th>\n",
       "  </tr>\n",
       "</table>\n"
      ],
      "text/plain": [
       "<IPython.core.display.HTML object>"
      ]
     },
     "metadata": {},
     "output_type": "display_data"
    }
   ],
   "source": [
    "sub_learn.unfreeze()\n",
    "sub_learn.fit_one_cycle(2, slice(1e-5/(2.6**4),1e-5))"
   ]
  },
  {
   "cell_type": "code",
   "execution_count": 120,
   "metadata": {},
   "outputs": [],
   "source": [
    "sub_learn.save('sub-final')"
   ]
  },
  {
   "cell_type": "markdown",
   "metadata": {},
   "source": [
    "It appears that cleaning up the wine variety labels results in generalizing too broadly over these more nuanced wines. Resulting in a lower accuracy in the prediction of wines based on reviews."
   ]
  },
  {
   "cell_type": "markdown",
   "metadata": {},
   "source": [
    "## Predictions"
   ]
  },
  {
   "cell_type": "code",
   "execution_count": 121,
   "metadata": {},
   "outputs": [
    {
     "data": {
      "text/plain": [
       "Category Cabernet Sauvignon"
      ]
     },
     "execution_count": 121,
     "metadata": {},
     "output_type": "execute_result"
    }
   ],
   "source": [
    "sub_learn.predict(\"tannins are well proportioned both grained and supple\")[0]"
   ]
  },
  {
   "cell_type": "markdown",
   "metadata": {},
   "source": [
    "## Further Training"
   ]
  },
  {
   "cell_type": "code",
   "execution_count": 127,
   "metadata": {},
   "outputs": [
    {
     "data": {
      "text/html": [
       "Total time: 46:17 <p><table style='width:300px; margin-bottom:10px'>\n",
       "  <tr>\n",
       "    <th>epoch</th>\n",
       "    <th>train_loss</th>\n",
       "    <th>valid_loss</th>\n",
       "    <th>accuracy</th>\n",
       "  </tr>\n",
       "  <tr>\n",
       "    <th>1</th>\n",
       "    <th>1.598321</th>\n",
       "    <th>1.427567</th>\n",
       "    <th>0.627443</th>\n",
       "  </tr>\n",
       "  <tr>\n",
       "    <th>2</th>\n",
       "    <th>1.552998</th>\n",
       "    <th>1.356779</th>\n",
       "    <th>0.643875</th>\n",
       "  </tr>\n",
       "  <tr>\n",
       "    <th>3</th>\n",
       "    <th>1.532307</th>\n",
       "    <th>1.312309</th>\n",
       "    <th>0.655933</th>\n",
       "  </tr>\n",
       "  <tr>\n",
       "    <th>4</th>\n",
       "    <th>1.484639</th>\n",
       "    <th>1.277536</th>\n",
       "    <th>0.666733</th>\n",
       "  </tr>\n",
       "  <tr>\n",
       "    <th>5</th>\n",
       "    <th>1.498551</th>\n",
       "    <th>1.271811</th>\n",
       "    <th>0.668389</th>\n",
       "  </tr>\n",
       "</table>\n"
      ],
      "text/plain": [
       "<IPython.core.display.HTML object>"
      ]
     },
     "metadata": {},
     "output_type": "display_data"
    }
   ],
   "source": [
    "sub_learn.fit_one_cycle(5, slice(1e-5,1e-3))"
   ]
  },
  {
   "cell_type": "code",
   "execution_count": 134,
   "metadata": {},
   "outputs": [],
   "source": [
    "sub_learn.save('sub-final')"
   ]
  },
  {
   "cell_type": "code",
   "execution_count": 132,
   "metadata": {},
   "outputs": [
    {
     "data": {
      "text/plain": [
       "Category Pinot Noir"
      ]
     },
     "execution_count": 132,
     "metadata": {},
     "output_type": "execute_result"
    }
   ],
   "source": [
    "sub_learn.predict(\"a light wine with hints of bitterness and fruit\")[0]"
   ]
  },
  {
   "cell_type": "code",
   "execution_count": 133,
   "metadata": {},
   "outputs": [
    {
     "data": {
      "text/plain": [
       "Category Sauvignon Blanc"
      ]
     },
     "execution_count": 133,
     "metadata": {},
     "output_type": "execute_result"
    }
   ],
   "source": [
    "sub_learn.predict(\"a wine full of flavor and color, mostly white\")[0]"
   ]
  }
 ],
 "metadata": {
  "kernelspec": {
   "display_name": "fastai-v1",
   "language": "python",
   "name": "fastai-v1"
  },
  "language_info": {
   "codemirror_mode": {
    "name": "ipython",
    "version": 3
   },
   "file_extension": ".py",
   "mimetype": "text/x-python",
   "name": "python",
   "nbconvert_exporter": "python",
   "pygments_lexer": "ipython3",
   "version": "3.7.0"
  }
 },
 "nbformat": 4,
 "nbformat_minor": 2
}
